{
 "cells": [
  {
   "cell_type": "markdown",
   "metadata": {},
   "source": [
    "## Simple Bayes Filter to Predict US Birth States by Name\n",
    "\n",
    "A simple program that generates the most likely state you were born in given your name or name and birth year.\n",
    "Using the dataset found here: https://www.ssa.gov/oact/babynames/limits.html"
   ]
  },
  {
   "cell_type": "code",
   "execution_count": 10,
   "metadata": {},
   "outputs": [],
   "source": [
    "# Import necessary libraries\n",
    "\n",
    "import nltk\n",
    "import numpy as np\n",
    "import pandas as pd\n",
    "import matplotlib as plt\n",
    "import seaborn as sns\n",
    "import os\n",
    "\n",
    "# Setting some visualization parameters\n",
    "sns.set(style=\"darkgrid\")\n"
   ]
  },
  {
   "cell_type": "code",
   "execution_count": null,
   "metadata": {
    "collapsed": true
   },
   "outputs": [],
   "source": [
    "# Import the list of names by state\n",
    "fpath = os.getcwd() + \"/namesbystate/\"\n",
    "nameFiles = os.listdir(fpath)\n",
    "\n",
    "# Build the dataframe\n",
    "stateDFs = []\n",
    "for nf in nameFiles:\n",
    "    state = nf.split(\".\")[0]\n",
    "    with open(fpath + nf) as namesFile:\n",
    "        stateDFs.append(pd.read_table(namesFile, sep=\",\", names=[\"State\",\"Gender\",\"Year\",\"Name\",\"Count\"]))\n",
    "\n",
    "names = pd.concat(stateDFs)\n"
   ]
  },
  {
   "cell_type": "code",
   "execution_count": 26,
   "metadata": {},
   "outputs": [
    {
     "data": {
      "text/plain": [
       "Name\n",
       "James      5001762\n",
       "John       4875934\n",
       "Robert     4743843\n",
       "Michael    4354622\n",
       "William    3886371\n",
       "Name: Count, dtype: int64"
      ]
     },
     "execution_count": 26,
     "metadata": {},
     "output_type": "execute_result"
    }
   ],
   "source": [
    "# Analyze the dataframe\n",
    "#print(names.size)\n",
    "#print(names.columns)\n",
    "#pd.isnull(names).any()\n",
    "#names.nunique()\n",
    "\n",
    "#g = sns.FacetGrid(tips, row=\"sex\", col=\"time\", margin_titles=True)\n",
    "#bins = np.linspace(0, 60, 13)\n",
    "#g.map(plt.hist, \"total_bill\", color=\"steelblue\", bins=bins)\n",
    "\n",
    "# Get the overall frequencies, which names are most popular across the dataset?\n",
    "name_freq = names.groupby('Name').sum().Count.sort_values(ascending=False)\n",
    "name_freq[:5]\n",
    "# best = names_freq.nlargest()\n"
   ]
  },
  {
   "cell_type": "code",
   "execution_count": 36,
   "metadata": {
    "collapsed": true
   },
   "outputs": [],
   "source": [
    "# Small collection of analysis functions\n",
    "\n",
    "def mostPopularByYear(year, gender=\"Both\"):\n",
    "    # separate by gender if requested\n",
    "    if gender == \"F\":\n",
    "        yearNames = names.loc[(names['Year'] == year) & (names[\"Gender\"] == \"F\") ]\n",
    "    elif gender == \"M\":\n",
    "        yearNames = names.loc[(names['Year'] == year) & (names[\"Gender\"] == \"M\") ]\n",
    "    else:\n",
    "        yearNames = names.loc[names['Year'] == year]\n",
    "        \n",
    "    freq = yearNames.groupby('Name').sum().Count.sort_values(ascending=False)\n",
    "    return (freq.index[0], freq[0])\n",
    "\n",
    "def mostPopularByYearRange(minYear, maxYear, gender=\"Both\"):\n",
    "    if gender == \"F\":\n",
    "        yearNames = names.loc[(names['Year'] >= minYear) & (names['Year'] <= maxYear) & (names[\"Gender\"] == \"F\") ]\n",
    "    elif gender == \"M\":\n",
    "        yearNames = names.loc[(names['Year'] >= minYear) & (names['Year'] <= maxYear) & (names[\"Gender\"] == \"M\") ]\n",
    "    else:\n",
    "        yearNames = names.loc[(names['Year'] >= minYear) & (names['Year'] <= maxYear)]\n",
    "        \n",
    "    freq = yearNames.groupby('Name').sum().Count.sort_values(ascending=False)\n",
    "    return (freq.index[0], freq[0])\n",
    "    \n",
    "#def mostPopularByYearAndState(year, state):\n",
    "    \n"
   ]
  },
  {
   "cell_type": "code",
   "execution_count": 39,
   "metadata": {},
   "outputs": [
    {
     "data": {
      "text/plain": [
       "('Jacob', 22117)"
      ]
     },
     "execution_count": 39,
     "metadata": {},
     "output_type": "execute_result"
    }
   ],
   "source": [
    "mostPopularByYear(2010, \"M\")\n",
    "\n",
    "#mostPopularByYearRange(1920, 1980, \"F\")"
   ]
  },
  {
   "cell_type": "code",
   "execution_count": 41,
   "metadata": {},
   "outputs": [
    {
     "ename": "KeyboardInterrupt",
     "evalue": "",
     "output_type": "error",
     "traceback": [
      "\u001b[1;31m---------------------------------------------------------------------------\u001b[0m",
      "\u001b[1;31mKeyboardInterrupt\u001b[0m                         Traceback (most recent call last)",
      "\u001b[1;32m<ipython-input-41-4513b2e9dc7a>\u001b[0m in \u001b[0;36m<module>\u001b[1;34m()\u001b[0m\n\u001b[0;32m      4\u001b[0m \u001b[1;32mfor\u001b[0m \u001b[0mindex\u001b[0m\u001b[1;33m,\u001b[0m \u001b[0mrow\u001b[0m \u001b[1;32min\u001b[0m \u001b[0mnames\u001b[0m\u001b[1;33m.\u001b[0m\u001b[0miterrows\u001b[0m\u001b[1;33m(\u001b[0m\u001b[1;33m)\u001b[0m\u001b[1;33m:\u001b[0m\u001b[1;33m\u001b[0m\u001b[0m\n\u001b[0;32m      5\u001b[0m     \u001b[1;31m# explanatory variable, response variable\u001b[0m\u001b[1;33m\u001b[0m\u001b[1;33m\u001b[0m\u001b[0m\n\u001b[1;32m----> 6\u001b[1;33m     \u001b[0mfeatureSet\u001b[0m\u001b[1;33m.\u001b[0m\u001b[0mappend\u001b[0m\u001b[1;33m(\u001b[0m\u001b[1;33m(\u001b[0m\u001b[0mrow\u001b[0m\u001b[1;33m[\u001b[0m\u001b[1;34m\"Name\"\u001b[0m\u001b[1;33m]\u001b[0m\u001b[1;33m,\u001b[0m \u001b[0mrow\u001b[0m\u001b[1;33m[\u001b[0m\u001b[1;34m\"State\"\u001b[0m\u001b[1;33m]\u001b[0m\u001b[1;33m)\u001b[0m\u001b[1;33m)\u001b[0m\u001b[1;33m\u001b[0m\u001b[0m\n\u001b[0m\u001b[0;32m      7\u001b[0m \u001b[0mtrain_set\u001b[0m\u001b[1;33m,\u001b[0m \u001b[0mtest_set\u001b[0m \u001b[1;33m=\u001b[0m \u001b[0mfeatureSet\u001b[0m\u001b[1;33m[\u001b[0m\u001b[0mnp\u001b[0m\u001b[1;33m.\u001b[0m\u001b[0mfloor\u001b[0m\u001b[1;33m(\u001b[0m\u001b[0mrowCount\u001b[0m\u001b[1;33m*\u001b[0m\u001b[1;36m.7\u001b[0m\u001b[1;33m)\u001b[0m\u001b[1;33m:\u001b[0m\u001b[1;33m]\u001b[0m\u001b[1;33m,\u001b[0m \u001b[0mfeatureSet\u001b[0m\u001b[1;33m[\u001b[0m\u001b[1;33m:\u001b[0m\u001b[0mnp\u001b[0m\u001b[1;33m.\u001b[0m\u001b[0mfloor\u001b[0m\u001b[1;33m(\u001b[0m\u001b[0mrowCount\u001b[0m\u001b[1;33m*\u001b[0m\u001b[1;36m.3\u001b[0m\u001b[1;33m)\u001b[0m\u001b[1;33m]\u001b[0m\u001b[1;33m\u001b[0m\u001b[0m\n\u001b[0;32m      8\u001b[0m \u001b[0mclassifier\u001b[0m \u001b[1;33m=\u001b[0m \u001b[0mnltk\u001b[0m\u001b[1;33m.\u001b[0m\u001b[0mNaiveBayesClassifier\u001b[0m\u001b[1;33m.\u001b[0m\u001b[0mtrain\u001b[0m\u001b[1;33m(\u001b[0m\u001b[0mtrain_set\u001b[0m\u001b[1;33m)\u001b[0m\u001b[1;33m\u001b[0m\u001b[0m\n",
      "\u001b[1;32m~\\AppData\\Roaming\\Python\\Python36\\site-packages\\pandas\\core\\series.py\u001b[0m in \u001b[0;36m__getitem__\u001b[1;34m(self, key)\u001b[0m\n\u001b[0;32m    765\u001b[0m         \u001b[0mkey\u001b[0m \u001b[1;33m=\u001b[0m \u001b[0mcom\u001b[0m\u001b[1;33m.\u001b[0m\u001b[0m_apply_if_callable\u001b[0m\u001b[1;33m(\u001b[0m\u001b[0mkey\u001b[0m\u001b[1;33m,\u001b[0m \u001b[0mself\u001b[0m\u001b[1;33m)\u001b[0m\u001b[1;33m\u001b[0m\u001b[0m\n\u001b[0;32m    766\u001b[0m         \u001b[1;32mtry\u001b[0m\u001b[1;33m:\u001b[0m\u001b[1;33m\u001b[0m\u001b[0m\n\u001b[1;32m--> 767\u001b[1;33m             \u001b[0mresult\u001b[0m \u001b[1;33m=\u001b[0m \u001b[0mself\u001b[0m\u001b[1;33m.\u001b[0m\u001b[0mindex\u001b[0m\u001b[1;33m.\u001b[0m\u001b[0mget_value\u001b[0m\u001b[1;33m(\u001b[0m\u001b[0mself\u001b[0m\u001b[1;33m,\u001b[0m \u001b[0mkey\u001b[0m\u001b[1;33m)\u001b[0m\u001b[1;33m\u001b[0m\u001b[0m\n\u001b[0m\u001b[0;32m    768\u001b[0m \u001b[1;33m\u001b[0m\u001b[0m\n\u001b[0;32m    769\u001b[0m             \u001b[1;32mif\u001b[0m \u001b[1;32mnot\u001b[0m \u001b[0mis_scalar\u001b[0m\u001b[1;33m(\u001b[0m\u001b[0mresult\u001b[0m\u001b[1;33m)\u001b[0m\u001b[1;33m:\u001b[0m\u001b[1;33m\u001b[0m\u001b[0m\n",
      "\u001b[1;31mKeyboardInterrupt\u001b[0m: "
     ]
    }
   ],
   "source": [
    "# Build and train the Bayes classifier\n",
    "rowCount = names.shape[0]\n",
    "featureSet = []\n",
    "for index, row in names.iterrows():\n",
    "    # explanatory variable, response variable\n",
    "    featureSet.append( {\"Name\": row[\"Name\"], \"Count\": row[\"Count\"]} , row[\"State\"]))\n",
    "train_set, test_set = featureSet[np.floor(rowCount*.7):], featureSet[:np.floor(rowCount*.3)]\n",
    "classifier = nltk.NaiveBayesClassifier.train(train_set)"
   ]
  },
  {
   "cell_type": "code",
   "execution_count": null,
   "metadata": {
    "collapsed": true
   },
   "outputs": [],
   "source": [
    "def predictState(name):\n",
    "    # get row count and build out the simple feature set\n",
    "    return classifier.classify(name)\n",
    "    \n",
    "predictState(\"Greg\", names)"
   ]
  }
 ],
 "metadata": {
  "kernelspec": {
   "display_name": "Python 3",
   "language": "python",
   "name": "python3"
  },
  "language_info": {
   "codemirror_mode": {
    "name": "ipython",
    "version": 3
   },
   "file_extension": ".py",
   "mimetype": "text/x-python",
   "name": "python",
   "nbconvert_exporter": "python",
   "pygments_lexer": "ipython3",
   "version": "3.6.3"
  }
 },
 "nbformat": 4,
 "nbformat_minor": 2
}
